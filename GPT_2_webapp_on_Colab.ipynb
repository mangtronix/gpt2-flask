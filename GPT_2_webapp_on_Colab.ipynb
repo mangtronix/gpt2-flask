{
  "nbformat": 4,
  "nbformat_minor": 0,
  "metadata": {
    "colab": {
      "name": "4g GPT-2 webapp on Colab.ipynb",
      "provenance": [],
      "collapsed_sections": []
    },
    "kernelspec": {
      "name": "python3",
      "display_name": "Python 3"
    },
    "accelerator": "GPU"
  },
  "cells": [
    {
      "cell_type": "markdown",
      "metadata": {
        "id": "Ae-usv3gD-F4"
      },
      "source": [
        "# Example of running GPT-2 as a webapp on Colab #\n",
        "\n",
        "This Colab runs the code from https://github.com/mangtronix/gpt2-flask (forked from [matthew-graves](https://github.com/matthew-graves/gpt2-flask)\n",
        "\n",
        "Colab by [Michael Ang](https://michaelang.com) for NYUAIM [Software Art: Text](https://github.com/NYUAD-IM/Software-Art-Text/blob/main/WeeklySchedule.md)\n",
        "\n",
        "The server runs on the Colab virtual machine. We use ngrok to create a tunnel from the ngrok.io domain to the virtual machine.\n",
        "\n",
        "To access the running server:\n",
        "- Click on the URL printed in the last cell `Running on http://...ngrok.io`\n",
        "\n",
        "To make changes:\n",
        "1. Fork the repository at https://github.com/mangtronix/gpt2-flask\n",
        "2. Update the cell below to use your repository (change the `mangtronix` to your GitHub username)\n",
        "3. Make your changes in your repository and push to GitHub\n",
        "4. Restart and Run All to pull your changes from your GitHub repo and restart the server. You will get a new URL printed in the last cell.\n"
      ]
    },
    {
      "cell_type": "code",
      "metadata": {
        "colab": {
          "base_uri": "https://localhost:8080/"
        },
        "id": "cd_7bgDt87RH",
        "outputId": "59ce7e6f-9135-4ee3-d853-71ce1f70c2ab"
      },
      "source": [
        "# Run this cell to pull your latest code from GitHub\n",
        "%cd /content\n",
        "!git clone https://github.com/mangtronix/gpt2-flask.git 2> /dev/null || git -C gpt2-flask pull\n",
        "%cd gpt2-flask"
      ],
      "execution_count": 1,
      "outputs": [
        {
          "output_type": "stream",
          "text": [
            "/content\n",
            "remote: Enumerating objects: 11, done.\u001b[K\n",
            "remote: Counting objects: 100% (11/11), done.\u001b[K\n",
            "remote: Compressing objects: 100% (2/2), done.\u001b[K\n",
            "remote: Total 7 (delta 5), reused 7 (delta 5), pack-reused 0\u001b[K\n",
            "Unpacking objects: 100% (7/7), done.\n",
            "From https://github.com/mangtronix/gpt2-flask\n",
            "   4ed7686..4dd86f1  master     -> origin/master\n",
            "Updating 4ed7686..4dd86f1\n",
            "Fast-forward\n",
            " templates/index.html   | 4 \u001b[32m++\u001b[m\u001b[31m--\u001b[m\n",
            " web_model_generator.py | 2 \u001b[32m+\u001b[m\u001b[31m-\u001b[m\n",
            " 2 files changed, 3 insertions(+), 3 deletions(-)\n",
            "/content/gpt2-flask\n"
          ],
          "name": "stdout"
        }
      ]
    },
    {
      "cell_type": "code",
      "metadata": {
        "colab": {
          "base_uri": "https://localhost:8080/"
        },
        "id": "uMFjKnI5C7_0",
        "outputId": "308adfd0-b96c-4174-c09a-a9f88e5566bd"
      },
      "source": [
        "# Check the runtime type\n",
        "import tensorflow as tf\n",
        "device_name = tf.test.gpu_device_name()\n",
        "if device_name != '/device:GPU:0':\n",
        "  raise SystemError('GPU device not found - choose GPU at Runtime->Change Runtime Type')\n",
        "print('Found GPU at: {}'.format(device_name))"
      ],
      "execution_count": 2,
      "outputs": [
        {
          "output_type": "stream",
          "text": [
            "Found GPU at: /device:GPU:0\n"
          ],
          "name": "stdout"
        }
      ]
    },
    {
      "cell_type": "code",
      "metadata": {
        "colab": {
          "base_uri": "https://localhost:8080/"
        },
        "id": "9DUwKiaS9TIl",
        "outputId": "a89df935-e57b-46fb-8dd8-9cbd95772398"
      },
      "source": [
        "!pip install -r requirements.txt\n",
        "!pip install flask-ngrok"
      ],
      "execution_count": 3,
      "outputs": [
        {
          "output_type": "stream",
          "text": [
            "Requirement already satisfied: absl-py==0.7.1 in /usr/local/lib/python3.6/dist-packages (from -r requirements.txt (line 2)) (0.7.1)\n",
            "Requirement already satisfied: astor==0.8.0 in /usr/local/lib/python3.6/dist-packages (from -r requirements.txt (line 3)) (0.8.0)\n",
            "Requirement already satisfied: certifi==2019.6.16 in /usr/local/lib/python3.6/dist-packages (from -r requirements.txt (line 4)) (2019.6.16)\n",
            "Requirement already satisfied: chardet==3.0.4 in /usr/local/lib/python3.6/dist-packages (from -r requirements.txt (line 5)) (3.0.4)\n",
            "Requirement already satisfied: Click==7.0 in /usr/local/lib/python3.6/dist-packages (from -r requirements.txt (line 6)) (7.0)\n",
            "Requirement already satisfied: fire==0.1.3 in /usr/local/lib/python3.6/dist-packages (from -r requirements.txt (line 7)) (0.1.3)\n",
            "Requirement already satisfied: Flask==1.0.3 in /usr/local/lib/python3.6/dist-packages (from -r requirements.txt (line 8)) (1.0.3)\n",
            "Requirement already satisfied: Flask-WTF==0.14.2 in /usr/local/lib/python3.6/dist-packages (from -r requirements.txt (line 9)) (0.14.2)\n",
            "Requirement already satisfied: gast==0.2.2 in /usr/local/lib/python3.6/dist-packages (from -r requirements.txt (line 10)) (0.2.2)\n",
            "Requirement already satisfied: google-pasta==0.1.7 in /usr/local/lib/python3.6/dist-packages (from -r requirements.txt (line 11)) (0.1.7)\n",
            "Requirement already satisfied: grpcio==1.21.1 in /usr/local/lib/python3.6/dist-packages (from -r requirements.txt (line 12)) (1.21.1)\n",
            "Requirement already satisfied: h5py==2.9.0 in /usr/local/lib/python3.6/dist-packages (from -r requirements.txt (line 13)) (2.9.0)\n",
            "Requirement already satisfied: idna==2.8 in /usr/local/lib/python3.6/dist-packages (from -r requirements.txt (line 14)) (2.8)\n",
            "Requirement already satisfied: itsdangerous==1.1.0 in /usr/local/lib/python3.6/dist-packages (from -r requirements.txt (line 15)) (1.1.0)\n",
            "Requirement already satisfied: Jinja2==2.10.1 in /usr/local/lib/python3.6/dist-packages (from -r requirements.txt (line 16)) (2.10.1)\n",
            "Requirement already satisfied: Keras-Applications==1.0.8 in /usr/local/lib/python3.6/dist-packages (from -r requirements.txt (line 17)) (1.0.8)\n",
            "Requirement already satisfied: Keras-Preprocessing==1.1.0 in /usr/local/lib/python3.6/dist-packages (from -r requirements.txt (line 18)) (1.1.0)\n",
            "Requirement already satisfied: Markdown==3.1.1 in /usr/local/lib/python3.6/dist-packages (from -r requirements.txt (line 19)) (3.1.1)\n",
            "Requirement already satisfied: MarkupSafe==1.1.1 in /usr/local/lib/python3.6/dist-packages (from -r requirements.txt (line 20)) (1.1.1)\n",
            "Processing /root/.cache/pip/wheels/8c/83/a1/f8b6d4bb1bd6208bbde1608bbfa7557504bed9eaf2ecf8c175/mysql_connector-2.2.9-cp36-cp36m-linux_x86_64.whl\n",
            "Requirement already satisfied: numpy==1.16.4 in /usr/local/lib/python3.6/dist-packages (from -r requirements.txt (line 22)) (1.16.4)\n",
            "Requirement already satisfied: protobuf==3.8.0 in /usr/local/lib/python3.6/dist-packages (from -r requirements.txt (line 23)) (3.8.0)\n",
            "Requirement already satisfied: PyYAML==5.1.1 in /usr/local/lib/python3.6/dist-packages (from -r requirements.txt (line 24)) (5.1.1)\n",
            "Requirement already satisfied: regex==2017.4.5 in /usr/local/lib/python3.6/dist-packages (from -r requirements.txt (line 25)) (2017.4.5)\n",
            "Requirement already satisfied: requests==2.21.0 in /usr/local/lib/python3.6/dist-packages (from -r requirements.txt (line 26)) (2.21.0)\n",
            "Requirement already satisfied: six==1.12.0 in /usr/local/lib/python3.6/dist-packages (from -r requirements.txt (line 27)) (1.12.0)\n",
            "Requirement already satisfied: tensorboard==1.14.0 in /usr/local/lib/python3.6/dist-packages (from -r requirements.txt (line 28)) (1.14.0)\n",
            "Requirement already satisfied: tensorflow-gpu==1.15.2 in /usr/local/lib/python3.6/dist-packages (from -r requirements.txt (line 29)) (1.15.2)\n",
            "Requirement already satisfied: tensorflow-estimator==1.14.0 in /usr/local/lib/python3.6/dist-packages (from -r requirements.txt (line 30)) (1.14.0)\n",
            "Requirement already satisfied: termcolor==1.1.0 in /usr/local/lib/python3.6/dist-packages (from -r requirements.txt (line 31)) (1.1.0)\n",
            "Requirement already satisfied: tqdm==4.31.1 in /usr/local/lib/python3.6/dist-packages (from -r requirements.txt (line 32)) (4.31.1)\n",
            "Requirement already satisfied: urllib3==1.24.3 in /usr/local/lib/python3.6/dist-packages (from -r requirements.txt (line 33)) (1.24.3)\n",
            "Requirement already satisfied: Werkzeug==0.15.4 in /usr/local/lib/python3.6/dist-packages (from -r requirements.txt (line 34)) (0.15.4)\n",
            "Requirement already satisfied: wrapt==1.11.2 in /usr/local/lib/python3.6/dist-packages (from -r requirements.txt (line 35)) (1.11.2)\n",
            "Requirement already satisfied: WTForms==2.2.1 in /usr/local/lib/python3.6/dist-packages (from -r requirements.txt (line 36)) (2.2.1)\n",
            "Requirement already satisfied: setuptools>=36 in /usr/local/lib/python3.6/dist-packages (from Markdown==3.1.1->-r requirements.txt (line 19)) (53.0.0)\n",
            "Requirement already satisfied: wheel>=0.26; python_version >= \"3\" in /usr/local/lib/python3.6/dist-packages (from tensorboard==1.14.0->-r requirements.txt (line 28)) (0.36.2)\n",
            "Requirement already satisfied: opt-einsum>=2.3.2 in /usr/local/lib/python3.6/dist-packages (from tensorflow-gpu==1.15.2->-r requirements.txt (line 29)) (3.3.0)\n",
            "Installing collected packages: mysql.connector\n",
            "Successfully installed mysql.connector\n",
            "Requirement already satisfied: flask-ngrok in /usr/local/lib/python3.6/dist-packages (0.0.25)\n",
            "Requirement already satisfied: Flask>=0.8 in /usr/local/lib/python3.6/dist-packages (from flask-ngrok) (1.0.3)\n",
            "Requirement already satisfied: requests in /usr/local/lib/python3.6/dist-packages (from flask-ngrok) (2.21.0)\n",
            "Requirement already satisfied: Werkzeug>=0.14 in /usr/local/lib/python3.6/dist-packages (from Flask>=0.8->flask-ngrok) (0.15.4)\n",
            "Requirement already satisfied: Jinja2>=2.10 in /usr/local/lib/python3.6/dist-packages (from Flask>=0.8->flask-ngrok) (2.10.1)\n",
            "Requirement already satisfied: itsdangerous>=0.24 in /usr/local/lib/python3.6/dist-packages (from Flask>=0.8->flask-ngrok) (1.1.0)\n",
            "Requirement already satisfied: click>=5.1 in /usr/local/lib/python3.6/dist-packages (from Flask>=0.8->flask-ngrok) (7.0)\n",
            "Requirement already satisfied: urllib3<1.25,>=1.21.1 in /usr/local/lib/python3.6/dist-packages (from requests->flask-ngrok) (1.24.3)\n",
            "Requirement already satisfied: chardet<3.1.0,>=3.0.2 in /usr/local/lib/python3.6/dist-packages (from requests->flask-ngrok) (3.0.4)\n",
            "Requirement already satisfied: certifi>=2017.4.17 in /usr/local/lib/python3.6/dist-packages (from requests->flask-ngrok) (2019.6.16)\n",
            "Requirement already satisfied: idna<2.9,>=2.5 in /usr/local/lib/python3.6/dist-packages (from requests->flask-ngrok) (2.8)\n",
            "Requirement already satisfied: MarkupSafe>=0.23 in /usr/local/lib/python3.6/dist-packages (from Jinja2>=2.10->Flask>=0.8->flask-ngrok) (1.1.1)\n"
          ],
          "name": "stdout"
        }
      ]
    },
    {
      "cell_type": "code",
      "metadata": {
        "colab": {
          "base_uri": "https://localhost:8080/"
        },
        "id": "GicguprwIXOr",
        "outputId": "344c89d4-0055-4a7a-9d91-b249def614a5"
      },
      "source": [
        "# Download GPT-2 model\n",
        "\n",
        "# If your download is corrupted (incomplete) you can force the download\n",
        "FORCE_DOWNLOAD = False\n",
        "\n",
        "import os\n",
        "if FORCE_DOWNLOAD or not os.path.exists('/content/gpt2-flask/models/355M'):\n",
        "  print(\"Downloading GPT-2 model\")\n",
        "  % cd /content\n",
        "  ! git clone https://github.com/openai/gpt-2.git 2> /dev/null || git -C gpt-2 pull\n",
        "\n",
        "  % cd gpt2-flask\n",
        "  ! python ../gpt-2/download_model.py 355M\n",
        "\n",
        "else:\n",
        "  print(\"Model already downloaded\")\n"
      ],
      "execution_count": 4,
      "outputs": [
        {
          "output_type": "stream",
          "text": [
            "Model already downloaded\n"
          ],
          "name": "stdout"
        }
      ]
    },
    {
      "cell_type": "code",
      "metadata": {
        "colab": {
          "base_uri": "https://localhost:8080/"
        },
        "id": "t_a7psp7-8Ku",
        "outputId": "7bcfc6ca-aebf-4c70-bd16-991988e28c5b"
      },
      "source": [
        "! python app.py"
      ],
      "execution_count": null,
      "outputs": [
        {
          "output_type": "stream",
          "text": [
            "2021-02-10 15:39:19.751590: I tensorflow/stream_executor/platform/default/dso_loader.cc:44] Successfully opened dynamic library libcuda.so.1\n",
            "2021-02-10 15:39:19.754607: I tensorflow/stream_executor/cuda/cuda_gpu_executor.cc:983] successful NUMA node read from SysFS had negative value (-1), but there must be at least one NUMA node, so returning NUMA node zero\n",
            "2021-02-10 15:39:19.755348: I tensorflow/core/common_runtime/gpu/gpu_device.cc:1639] Found device 0 with properties: \n",
            "name: Tesla K80 major: 3 minor: 7 memoryClockRate(GHz): 0.562\n",
            "pciBusID: 0000:00:04.0\n",
            "2021-02-10 15:39:19.755623: I tensorflow/stream_executor/platform/default/dso_loader.cc:44] Successfully opened dynamic library libcudart.so.10.0\n",
            "2021-02-10 15:39:19.756926: I tensorflow/stream_executor/platform/default/dso_loader.cc:44] Successfully opened dynamic library libcublas.so.10.0\n",
            "2021-02-10 15:39:19.758038: I tensorflow/stream_executor/platform/default/dso_loader.cc:44] Successfully opened dynamic library libcufft.so.10.0\n",
            "2021-02-10 15:39:19.758402: I tensorflow/stream_executor/platform/default/dso_loader.cc:44] Successfully opened dynamic library libcurand.so.10.0\n",
            "2021-02-10 15:39:19.759851: I tensorflow/stream_executor/platform/default/dso_loader.cc:44] Successfully opened dynamic library libcusolver.so.10.0\n",
            "2021-02-10 15:39:19.760902: I tensorflow/stream_executor/platform/default/dso_loader.cc:44] Successfully opened dynamic library libcusparse.so.10.0\n",
            "2021-02-10 15:39:19.764259: I tensorflow/stream_executor/platform/default/dso_loader.cc:44] Successfully opened dynamic library libcudnn.so.7\n",
            "2021-02-10 15:39:19.764408: I tensorflow/stream_executor/cuda/cuda_gpu_executor.cc:983] successful NUMA node read from SysFS had negative value (-1), but there must be at least one NUMA node, so returning NUMA node zero\n",
            "2021-02-10 15:39:19.765200: I tensorflow/stream_executor/cuda/cuda_gpu_executor.cc:983] successful NUMA node read from SysFS had negative value (-1), but there must be at least one NUMA node, so returning NUMA node zero\n",
            "2021-02-10 15:39:19.765879: I tensorflow/core/common_runtime/gpu/gpu_device.cc:1767] Adding visible gpu devices: 0\n",
            "2021-02-10 15:39:19.766241: I tensorflow/core/platform/cpu_feature_guard.cc:142] Your CPU supports instructions that this TensorFlow binary was not compiled to use: AVX2 FMA\n",
            "2021-02-10 15:39:19.771138: I tensorflow/core/platform/profile_utils/cpu_utils.cc:94] CPU Frequency: 2299995000 Hz\n",
            "2021-02-10 15:39:19.771366: I tensorflow/compiler/xla/service/service.cc:168] XLA service 0x13b3480 initialized for platform Host (this does not guarantee that XLA will be used). Devices:\n",
            "2021-02-10 15:39:19.771403: I tensorflow/compiler/xla/service/service.cc:176]   StreamExecutor device (0): Host, Default Version\n",
            "2021-02-10 15:39:19.815358: I tensorflow/stream_executor/cuda/cuda_gpu_executor.cc:983] successful NUMA node read from SysFS had negative value (-1), but there must be at least one NUMA node, so returning NUMA node zero\n",
            "2021-02-10 15:39:19.816221: I tensorflow/compiler/xla/service/service.cc:168] XLA service 0x13b3640 initialized for platform CUDA (this does not guarantee that XLA will be used). Devices:\n",
            "2021-02-10 15:39:19.816260: I tensorflow/compiler/xla/service/service.cc:176]   StreamExecutor device (0): Tesla K80, Compute Capability 3.7\n",
            "2021-02-10 15:39:19.816436: I tensorflow/stream_executor/cuda/cuda_gpu_executor.cc:983] successful NUMA node read from SysFS had negative value (-1), but there must be at least one NUMA node, so returning NUMA node zero\n",
            "2021-02-10 15:39:19.817157: I tensorflow/core/common_runtime/gpu/gpu_device.cc:1639] Found device 0 with properties: \n",
            "name: Tesla K80 major: 3 minor: 7 memoryClockRate(GHz): 0.562\n",
            "pciBusID: 0000:00:04.0\n",
            "2021-02-10 15:39:19.817233: I tensorflow/stream_executor/platform/default/dso_loader.cc:44] Successfully opened dynamic library libcudart.so.10.0\n",
            "2021-02-10 15:39:19.817282: I tensorflow/stream_executor/platform/default/dso_loader.cc:44] Successfully opened dynamic library libcublas.so.10.0\n",
            "2021-02-10 15:39:19.817322: I tensorflow/stream_executor/platform/default/dso_loader.cc:44] Successfully opened dynamic library libcufft.so.10.0\n",
            "2021-02-10 15:39:19.817373: I tensorflow/stream_executor/platform/default/dso_loader.cc:44] Successfully opened dynamic library libcurand.so.10.0\n",
            "2021-02-10 15:39:19.817412: I tensorflow/stream_executor/platform/default/dso_loader.cc:44] Successfully opened dynamic library libcusolver.so.10.0\n",
            "2021-02-10 15:39:19.817449: I tensorflow/stream_executor/platform/default/dso_loader.cc:44] Successfully opened dynamic library libcusparse.so.10.0\n",
            "2021-02-10 15:39:19.817487: I tensorflow/stream_executor/platform/default/dso_loader.cc:44] Successfully opened dynamic library libcudnn.so.7\n",
            "2021-02-10 15:39:19.817577: I tensorflow/stream_executor/cuda/cuda_gpu_executor.cc:983] successful NUMA node read from SysFS had negative value (-1), but there must be at least one NUMA node, so returning NUMA node zero\n",
            "2021-02-10 15:39:19.818357: I tensorflow/stream_executor/cuda/cuda_gpu_executor.cc:983] successful NUMA node read from SysFS had negative value (-1), but there must be at least one NUMA node, so returning NUMA node zero\n",
            "2021-02-10 15:39:19.819046: I tensorflow/core/common_runtime/gpu/gpu_device.cc:1767] Adding visible gpu devices: 0\n",
            "2021-02-10 15:39:19.819115: I tensorflow/stream_executor/platform/default/dso_loader.cc:44] Successfully opened dynamic library libcudart.so.10.0\n",
            "2021-02-10 15:39:19.820587: I tensorflow/core/common_runtime/gpu/gpu_device.cc:1180] Device interconnect StreamExecutor with strength 1 edge matrix:\n",
            "2021-02-10 15:39:19.820624: I tensorflow/core/common_runtime/gpu/gpu_device.cc:1186]      0 \n",
            "2021-02-10 15:39:19.820645: I tensorflow/core/common_runtime/gpu/gpu_device.cc:1199] 0:   N \n",
            "2021-02-10 15:39:19.820787: I tensorflow/stream_executor/cuda/cuda_gpu_executor.cc:983] successful NUMA node read from SysFS had negative value (-1), but there must be at least one NUMA node, so returning NUMA node zero\n",
            "2021-02-10 15:39:19.821537: I tensorflow/stream_executor/cuda/cuda_gpu_executor.cc:983] successful NUMA node read from SysFS had negative value (-1), but there must be at least one NUMA node, so returning NUMA node zero\n",
            "2021-02-10 15:39:19.822252: W tensorflow/core/common_runtime/gpu/gpu_bfc_allocator.cc:39] Overriding allow_growth setting because the TF_FORCE_GPU_ALLOW_GROWTH environment variable is set. Original config value was 0.\n",
            "2021-02-10 15:39:19.822305: I tensorflow/core/common_runtime/gpu/gpu_device.cc:1325] Created TensorFlow device (/job:localhost/replica:0/task:0/device:GPU:0 with 10748 MB memory) -> physical GPU (device: 0, name: Tesla K80, pci bus id: 0000:00:04.0, compute capability: 3.7)\n",
            "WARNING: Logging before flag parsing goes to stderr.\n",
            "W0210 15:39:24.605026 140153741764480 deprecation.py:323] From /content/gpt2-flask/sample.py:16: where (from tensorflow.python.ops.array_ops) is deprecated and will be removed in a future version.\n",
            "Instructions for updating:\n",
            "Use tf.where in 2.0, which has the same broadcast rule as np.where\n",
            " * Serving Flask app \"app\" (lazy loading)\n",
            " * Environment: production\n",
            "\u001b[31m   WARNING: This is a development server. Do not use it in a production deployment.\u001b[0m\n",
            "\u001b[2m   Use a production WSGI server instead.\u001b[0m\n",
            " * Debug mode: off\n",
            "I0210 15:39:31.862462 140153741764480 _internal.py:122]  * Running on http://127.0.0.1:5000/ (Press CTRL+C to quit)\n",
            " * Running on http://b20f84a9ab94.ngrok.io\n",
            " * Traffic stats available on http://127.0.0.1:4040\n",
            "I0210 15:39:36.623751 140150428661504 _internal.py:122] 127.0.0.1 - - [10/Feb/2021 15:39:36] \"\u001b[37mGET / HTTP/1.1\u001b[0m\" 200 -\n",
            "I0210 15:39:37.037496 140150428661504 _internal.py:122] 127.0.0.1 - - [10/Feb/2021 15:39:37] \"\u001b[37mGET /static/css/style.css HTTP/1.1\u001b[0m\" 200 -\n",
            "I0210 15:39:37.263229 140150428661504 _internal.py:122] 127.0.0.1 - - [10/Feb/2021 15:39:37] \"\u001b[37mGET /static/css/custom-responsive-style.css HTTP/1.1\u001b[0m\" 200 -\n",
            "I0210 15:39:37.609616 140150428661504 _internal.py:122] 127.0.0.1 - - [10/Feb/2021 15:39:37] \"\u001b[37mGET /static/images/banner.jpg HTTP/1.1\u001b[0m\" 200 -\n",
            "I0210 15:39:37.666735 140150428661504 _internal.py:122] 127.0.0.1 - - [10/Feb/2021 15:39:37] \"\u001b[37mGET /static/images/favicons/favicon-32x32.png HTTP/1.1\u001b[0m\" 200 -\n",
            "2021-02-10 15:40:09.808695: I tensorflow/stream_executor/platform/default/dso_loader.cc:44] Successfully opened dynamic library libcublas.so.10.0\n",
            "New prompt: g still at all‪♫\n",
            "\n",
            "«And yet we have come so far away;‪\n",
            "\n",
            "¦How do we get back home again?\" asked Alice anxiously.\n",
            "\n",
            "«Well,‪‫said Alice; “I can get you a house somewhere near there.‭\n",
            "\n",
            "«Ah, my dear,‭ thought Alice, holding out her hand and saying, ‪Let me tell you something from the first lesson I got from you,‬ ‬for it is quite true,  ♫And it does not hurt one bit‪♫ ♫but I beg you:‪♫\n",
            "\n",
            "«No,‪♫I say! Let me get you another lesson,‪♫♫‬‬‬‬♫♫♫♫♫♫♫♫♫♫♫♫♫♫♫♫‬‬♫‬♫.‬\n",
            "\n",
            "«But no,‪♫I say,‬‬‬‬♫♫♫♫♫♫♫♫♫♫♫♫♫♫♫♫♫♫♫♫♫♫\n",
            "I0210 15:40:31.636483 140150428661504 _internal.py:122] 127.0.0.1 - - [10/Feb/2021 15:40:31] \"\u001b[37mPOST / HTTP/1.1\u001b[0m\" 200 -\n",
            "New prompt: CLASSIFIED\n",
            "CLASSIFIED\n",
            "CLASSIFIED\n",
            "CLASSIFIED\n",
            "I0210 15:41:47.832042 140150428661504 _internal.py:122] 127.0.0.1 - - [10/Feb/2021 15:41:47] \"\u001b[37mPOST / HTTP/1.1\u001b[0m\" 200 -\n",
            "New prompt: en.\n",
            "\n",
            "\"We should have known what we were doing.\"\n",
            "\n",
            "There are not that many examples of great goals from a team which never got too close to that.\n",
            "\n",
            "That is why Newcastle United are playing another game at St James' Park tomorrow night - a game that has turned their season into an en route to victory.\n",
            "\n",
            "I asked Newcastle manager Alan Pardew how proud he was of such a result.\n",
            "\n",
            "\"It is a great achievement to be playing in front of our supporters, who are going to get into the stadium in the morning,\" he\n",
            "I0210 15:42:19.661276 140150428661504 _internal.py:122] 127.0.0.1 - - [10/Feb/2021 15:42:19] \"\u001b[37mPOST / HTTP/1.1\u001b[0m\" 200 -\n",
            "New prompt: enequotenequotenequotenequotenequotenequotenequotenequotenequotenequotenequotenequotenequotenequotenequotenequotenequotenequotenequotenequotenequotenequotenequotenequotenequotenequotenequotenequotenequotenequotenequotenequotenequotenequotenequotenequotenequotenequotenequotenequotenequotenequotenequotenequotenequotenequotenequotenequotenequotenequotenequotenequotenequotenequotenequotenequotenequotenequotenequotenequotenequotenequotenequotenequotenequotenequotenequotenequotenequotenequotenequotene\n",
            "I0210 15:42:54.855134 140150428661504 _internal.py:122] 127.0.0.1 - - [10/Feb/2021 15:42:54] \"\u001b[37mPOST / HTTP/1.1\u001b[0m\" 200 -\n"
          ],
          "name": "stdout"
        }
      ]
    }
  ]
}